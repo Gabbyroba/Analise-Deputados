{
 "cells": [
  {
   "cell_type": "code",
   "execution_count": null,
   "metadata": {},
   "outputs": [],
   "source": [
    "import pandas as pd\n",
    "import matplotlib.pyplot as plt\n",
    "import numpy as np\n",
    "import plotly.express as px\n",
    "import plotly.graph_objects as go"
   ]
  },
  {
   "cell_type": "code",
   "execution_count": null,
   "metadata": {},
   "outputs": [],
   "source": [
    "# Carregar o arquivo de despesas em um DataFrame\n",
    "df_despesas = pd.read_excel('despesasdepfinal.xlsx')\n",
    "tabela = df_despesas"
   ]
  },
  {
   "cell_type": "code",
   "execution_count": null,
   "metadata": {},
   "outputs": [],
   "source": [
    "display(tabela)"
   ]
  },
  {
   "cell_type": "code",
   "execution_count": null,
   "metadata": {},
   "outputs": [],
   "source": [
    "# Exibir informações estatísticas do DataFrame\n",
    "tabela.describe()"
   ]
  },
  {
   "cell_type": "code",
   "execution_count": null,
   "metadata": {},
   "outputs": [],
   "source": [
    "# Filtrar despesas com valores negativos\n",
    "valores_negativos = tabela[tabela['valorLiquido'] < 0]"
   ]
  },
  {
   "cell_type": "code",
   "execution_count": null,
   "metadata": {},
   "outputs": [],
   "source": [
    "# Remover linhas específicas do DataFrame\n",
    "tabela = tabela.drop(12636, axis='index')\n",
    "tabela = tabela.drop(23040, axis='index')\n",
    "tabela = tabela.drop(32069, axis='index')\n",
    "tabela = tabela.drop(33479, axis='index')"
   ]
  },
  {
   "cell_type": "code",
   "execution_count": null,
   "metadata": {},
   "outputs": [],
   "source": [
    "# Plotando o gráfico de barras\n",
    "plt.bar(tabela['siglaPartido'], tabela['valorLiquido'])\n",
    "plt.xlabel('siglaPartido')\n",
    "plt.ylabel('valorLiquido')\n",
    "plt.title('Gastos por Partido')\n",
    "plt.xticks(rotation=90)  # Rotaciona os rótulos do eixo x para melhor visualização\n",
    "plt.show()\n"
   ]
  },
  {
   "cell_type": "code",
   "execution_count": null,
   "metadata": {},
   "outputs": [],
   "source": [
    "# Agrupar as despesas\n",
    "agrupadas = tabela[['tipoDespesa', 'valorLiquido']].groupby('tipoDespesa').sum()\n",
    "\n",
    "# Truncar os nomes das despesas\n",
    "agrupadas.index = [despesa[:10] + '...' if len(despesa) > 10 else despesa for despesa in agrupadas.index]\n",
    "\n",
    "# Plotar o gráfico de barras com as despesas agrupadas\n",
    "agrupadas.plot(kind='bar')\n",
    "\n",
    "# Configurar o título e os rótulos dos eixos\n",
    "plt.title('Despesas por Categoria')\n",
    "plt.xlabel('Categoria')\n",
    "plt.ylabel('Valor Total')\n",
    "\n",
    "# Rotacionar os rótulos das categorias\n",
    "plt.xticks(rotation=45)\n",
    "\n",
    "# Exibir o gráfico\n",
    "plt.show()\n"
   ]
  },
  {
   "cell_type": "code",
   "execution_count": null,
   "metadata": {},
   "outputs": [],
   "source": [
    "# Plotar o histograma interativo dos gastos por sigla de partido usando Plotly\n",
    "fig = px.histogram(tabela, x='siglaPartido', color='siglaPartido')\n",
    "fig.show()"
   ]
  },
  {
   "cell_type": "code",
   "execution_count": null,
   "metadata": {},
   "outputs": [],
   "source": [
    "# Salvar o treemap como um arquivo HTML interativo\n",
    "fig.write_html('histogramainterativo.html')"
   ]
  },
  {
   "cell_type": "code",
   "execution_count": null,
   "metadata": {},
   "outputs": [],
   "source": [
    "# Armazenar o dataframe em uma variável \n",
    "dftree = pd.DataFrame(tabela)\n",
    "df = dftree"
   ]
  },
  {
   "cell_type": "code",
   "execution_count": null,
   "metadata": {},
   "outputs": [],
   "source": [
    "# Criar os dados para o gráfico\n",
    "dados = tabela[['tipoDespesa', 'valorLiquido']].groupby('tipoDespesa').sum().reset_index()\n",
    "\n",
    "# Ordenar os dados pelo valorLiquido de forma decrescente\n",
    "dados = dados.sort_values('valorLiquido', ascending=False)\n",
    "\n",
    "# Criar o gráfico de barras horizontais\n",
    "fig3 = go.Figure(data=go.Bar(\n",
    "    x=dados['valorLiquido'],\n",
    "    y=dados['tipoDespesa'],\n",
    "    orientation='h',\n",
    "))\n",
    "\n",
    "# Configurar o layout do gráfico\n",
    "fig3.update_layout(\n",
    "    title='Despesas por Tipo',\n",
    "    xaxis_title='Valor Total',\n",
    "    yaxis_title='Tipo de Despesa',\n",
    "    xaxis_range=[0, max(dados['valorLiquido'])]  # Definir o intervalo do eixo x com base no valor máximo\n",
    ")\n",
    "\n",
    "# Exibir o gráfico\n",
    "fig3.show()\n"
   ]
  },
  {
   "cell_type": "code",
   "execution_count": null,
   "metadata": {},
   "outputs": [],
   "source": [
    "# Adicionar a tabela2 em uma variável\n",
    "dfr_despesas = pd.read_excel('despesasdepfinalcopia.xlsx')\n",
    "tabela2 = dfr_despesas"
   ]
  },
  {
   "cell_type": "code",
   "execution_count": null,
   "metadata": {},
   "outputs": [],
   "source": [
    "# Criar gráfico de histograma por tipo de despesas \n",
    "fig4 = px.histogram(tabela2, x='tipoDespesa', color='tipoDespesa')\n",
    "fig4.show()"
   ]
  },
  {
   "cell_type": "code",
   "execution_count": null,
   "metadata": {},
   "outputs": [],
   "source": [
    "\n",
    "# Calcular a contagem de ocorrência de cada siglaUF\n",
    "counts = df['siglaUF'].value_counts()\n",
    "\n",
    "# Criar um DataFrame com as informações\n",
    "df_treemap = pd.DataFrame({'siglaUF': counts.index, 'count': counts.values, 'valorLiquido': counts.values})\n",
    "\n",
    "# Criar o treemap\n",
    "fig2 = go.Figure(go.Treemap(\n",
    "    labels=df_treemap['siglaUF'],\n",
    "    parents=[\"\"] * len(df_treemap),  # Define todos os nós raiz\n",
    "    values=df_treemap['valorLiquido'],\n",
    "    text=df_treemap['valorLiquido'].apply(lambda x: f\"R${x:.2f}\"),  # Adiciona o prefixo \"R$\" e formata com duas casas decimais\n",
    "    textposition=\"middle center\",  # Define a posição do texto no centro da área\n",
    "    hovertemplate='<b>%{label}</b> <br> Valor: %{text}',\n",
    "))\n",
    "\n",
    "# Configurar o título\n",
    "fig2.update_layout(title='Gastos por UF')\n",
    "\n",
    "# Exibir o gráfico\n",
    "fig2.show()\n"
   ]
  }
 ],
 "metadata": {
  "kernelspec": {
   "display_name": "Python 3",
   "language": "python",
   "name": "python3"
  },
  "language_info": {
   "codemirror_mode": {
    "name": "ipython",
    "version": 3
   },
   "file_extension": ".py",
   "mimetype": "text/x-python",
   "name": "python",
   "nbconvert_exporter": "python",
   "pygments_lexer": "ipython3",
   "version": "3.10.5"
  },
  "orig_nbformat": 4
 },
 "nbformat": 4,
 "nbformat_minor": 2
}
